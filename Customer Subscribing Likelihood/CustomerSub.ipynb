{
 "cells": [
  {
   "cell_type": "code",
   "execution_count": 1,
   "id": "f7738ffd-1007-4d6c-aa22-4419a3f646a7",
   "metadata": {},
   "outputs": [],
   "source": [
    "#Let's get to work on the dataset (Data cleaning)\n",
    "import numpy as np\n",
    "import pandas as pd\n",
    "import matplotlib.pyplot as plt\n",
    "import seaborn as sns\n",
    "%matplotlib inline"
   ]
  },
  {
   "cell_type": "code",
   "execution_count": 2,
   "id": "03c4cb9d-1617-49af-bc11-6afab4ea9541",
   "metadata": {},
   "outputs": [
    {
     "data": {
      "text/html": [
       "<div>\n",
       "<style scoped>\n",
       "    .dataframe tbody tr th:only-of-type {\n",
       "        vertical-align: middle;\n",
       "    }\n",
       "\n",
       "    .dataframe tbody tr th {\n",
       "        vertical-align: top;\n",
       "    }\n",
       "\n",
       "    .dataframe thead th {\n",
       "        text-align: right;\n",
       "    }\n",
       "</style>\n",
       "<table border=\"1\" class=\"dataframe\">\n",
       "  <thead>\n",
       "    <tr style=\"text-align: right;\">\n",
       "      <th></th>\n",
       "      <th>Customer ID</th>\n",
       "      <th>Age</th>\n",
       "      <th>Gender</th>\n",
       "      <th>Location</th>\n",
       "      <th>Frequency</th>\n",
       "      <th>Amount Spent</th>\n",
       "      <th>Subscription</th>\n",
       "    </tr>\n",
       "  </thead>\n",
       "  <tbody>\n",
       "    <tr>\n",
       "      <th>0</th>\n",
       "      <td>1</td>\n",
       "      <td>28</td>\n",
       "      <td>Male</td>\n",
       "      <td>New York</td>\n",
       "      <td>10</td>\n",
       "      <td>500</td>\n",
       "      <td>Yes</td>\n",
       "    </tr>\n",
       "    <tr>\n",
       "      <th>1</th>\n",
       "      <td>2</td>\n",
       "      <td>35</td>\n",
       "      <td>Female</td>\n",
       "      <td>Los Angeles</td>\n",
       "      <td>5</td>\n",
       "      <td>250</td>\n",
       "      <td>No</td>\n",
       "    </tr>\n",
       "    <tr>\n",
       "      <th>2</th>\n",
       "      <td>3</td>\n",
       "      <td>42</td>\n",
       "      <td>Male</td>\n",
       "      <td>Chicago</td>\n",
       "      <td>8</td>\n",
       "      <td>400</td>\n",
       "      <td>Yes</td>\n",
       "    </tr>\n",
       "    <tr>\n",
       "      <th>3</th>\n",
       "      <td>4</td>\n",
       "      <td>22</td>\n",
       "      <td>Female</td>\n",
       "      <td>San Francisco</td>\n",
       "      <td>3</td>\n",
       "      <td>150</td>\n",
       "      <td>No</td>\n",
       "    </tr>\n",
       "    <tr>\n",
       "      <th>4</th>\n",
       "      <td>5</td>\n",
       "      <td>30</td>\n",
       "      <td>Male</td>\n",
       "      <td>Houston</td>\n",
       "      <td>6</td>\n",
       "      <td>300</td>\n",
       "      <td>Yes</td>\n",
       "    </tr>\n",
       "  </tbody>\n",
       "</table>\n",
       "</div>"
      ],
      "text/plain": [
       "   Customer ID  Age  Gender       Location  Frequency  Amount Spent  \\\n",
       "0            1   28    Male       New York         10           500   \n",
       "1            2   35  Female    Los Angeles          5           250   \n",
       "2            3   42    Male        Chicago          8           400   \n",
       "3            4   22  Female  San Francisco          3           150   \n",
       "4            5   30    Male        Houston          6           300   \n",
       "\n",
       "  Subscription  \n",
       "0          Yes  \n",
       "1           No  \n",
       "2          Yes  \n",
       "3           No  \n",
       "4          Yes  "
      ]
     },
     "execution_count": 2,
     "metadata": {},
     "output_type": "execute_result"
    }
   ],
   "source": [
    "df = pd.read_csv(\"Customer.csv\")\n",
    "df.head()"
   ]
  },
  {
   "cell_type": "code",
   "execution_count": 3,
   "id": "28e807e3-f46b-4ce5-b80c-db9f977ee1f1",
   "metadata": {},
   "outputs": [
    {
     "data": {
      "text/plain": [
       "(100, 7)"
      ]
     },
     "execution_count": 3,
     "metadata": {},
     "output_type": "execute_result"
    }
   ],
   "source": [
    "# Display the shape of the dataset.\n",
    "df.shape"
   ]
  },
  {
   "cell_type": "code",
   "execution_count": 4,
   "id": "f88bc609-1226-40e3-b828-b8d967bbde63",
   "metadata": {},
   "outputs": [
    {
     "name": "stdout",
     "output_type": "stream",
     "text": [
      "<class 'pandas.core.frame.DataFrame'>\n",
      "RangeIndex: 100 entries, 0 to 99\n",
      "Data columns (total 7 columns):\n",
      " #   Column        Non-Null Count  Dtype \n",
      "---  ------        --------------  ----- \n",
      " 0   Customer ID   100 non-null    int64 \n",
      " 1   Age           100 non-null    int64 \n",
      " 2   Gender        100 non-null    object\n",
      " 3   Location      100 non-null    object\n",
      " 4   Frequency     100 non-null    int64 \n",
      " 5   Amount Spent  100 non-null    int64 \n",
      " 6   Subscription  100 non-null    object\n",
      "dtypes: int64(4), object(3)\n",
      "memory usage: 5.6+ KB\n"
     ]
    }
   ],
   "source": [
    "df.info()"
   ]
  },
  {
   "cell_type": "code",
   "execution_count": 5,
   "id": "d7631534-33aa-499b-9d80-0f7f908714c0",
   "metadata": {},
   "outputs": [
    {
     "data": {
      "text/plain": [
       "Customer ID     0\n",
       "Age             0\n",
       "Gender          0\n",
       "Location        0\n",
       "Frequency       0\n",
       "Amount Spent    0\n",
       "Subscription    0\n",
       "dtype: int64"
      ]
     },
     "execution_count": 5,
     "metadata": {},
     "output_type": "execute_result"
    }
   ],
   "source": [
    "# Display na or nan values. dropna isnull fillna\n",
    "df.isnull().sum()"
   ]
  },
  {
   "cell_type": "code",
   "execution_count": 6,
   "id": "458160d8-bbf7-4abe-8617-74ee26459213",
   "metadata": {},
   "outputs": [
    {
     "data": {
      "text/html": [
       "<div>\n",
       "<style scoped>\n",
       "    .dataframe tbody tr th:only-of-type {\n",
       "        vertical-align: middle;\n",
       "    }\n",
       "\n",
       "    .dataframe tbody tr th {\n",
       "        vertical-align: top;\n",
       "    }\n",
       "\n",
       "    .dataframe thead th {\n",
       "        text-align: right;\n",
       "    }\n",
       "</style>\n",
       "<table border=\"1\" class=\"dataframe\">\n",
       "  <thead>\n",
       "    <tr style=\"text-align: right;\">\n",
       "      <th></th>\n",
       "      <th>count</th>\n",
       "      <th>unique</th>\n",
       "      <th>top</th>\n",
       "      <th>freq</th>\n",
       "      <th>mean</th>\n",
       "      <th>std</th>\n",
       "      <th>min</th>\n",
       "      <th>25%</th>\n",
       "      <th>50%</th>\n",
       "      <th>75%</th>\n",
       "      <th>max</th>\n",
       "    </tr>\n",
       "  </thead>\n",
       "  <tbody>\n",
       "    <tr>\n",
       "      <th>Customer ID</th>\n",
       "      <td>100.0</td>\n",
       "      <td>NaN</td>\n",
       "      <td>NaN</td>\n",
       "      <td>NaN</td>\n",
       "      <td>50.5</td>\n",
       "      <td>29.011492</td>\n",
       "      <td>1.0</td>\n",
       "      <td>25.75</td>\n",
       "      <td>50.5</td>\n",
       "      <td>75.25</td>\n",
       "      <td>100.0</td>\n",
       "    </tr>\n",
       "    <tr>\n",
       "      <th>Age</th>\n",
       "      <td>100.0</td>\n",
       "      <td>NaN</td>\n",
       "      <td>NaN</td>\n",
       "      <td>NaN</td>\n",
       "      <td>35.25</td>\n",
       "      <td>9.023398</td>\n",
       "      <td>21.0</td>\n",
       "      <td>28.0</td>\n",
       "      <td>34.0</td>\n",
       "      <td>42.0</td>\n",
       "      <td>53.0</td>\n",
       "    </tr>\n",
       "    <tr>\n",
       "      <th>Gender</th>\n",
       "      <td>100</td>\n",
       "      <td>2</td>\n",
       "      <td>Male</td>\n",
       "      <td>50</td>\n",
       "      <td>NaN</td>\n",
       "      <td>NaN</td>\n",
       "      <td>NaN</td>\n",
       "      <td>NaN</td>\n",
       "      <td>NaN</td>\n",
       "      <td>NaN</td>\n",
       "      <td>NaN</td>\n",
       "    </tr>\n",
       "    <tr>\n",
       "      <th>Location</th>\n",
       "      <td>100</td>\n",
       "      <td>51</td>\n",
       "      <td>Kansas City</td>\n",
       "      <td>4</td>\n",
       "      <td>NaN</td>\n",
       "      <td>NaN</td>\n",
       "      <td>NaN</td>\n",
       "      <td>NaN</td>\n",
       "      <td>NaN</td>\n",
       "      <td>NaN</td>\n",
       "      <td>NaN</td>\n",
       "    </tr>\n",
       "    <tr>\n",
       "      <th>Frequency</th>\n",
       "      <td>100.0</td>\n",
       "      <td>NaN</td>\n",
       "      <td>NaN</td>\n",
       "      <td>NaN</td>\n",
       "      <td>6.46</td>\n",
       "      <td>2.861871</td>\n",
       "      <td>1.0</td>\n",
       "      <td>4.0</td>\n",
       "      <td>6.0</td>\n",
       "      <td>9.0</td>\n",
       "      <td>12.0</td>\n",
       "    </tr>\n",
       "    <tr>\n",
       "      <th>Amount Spent</th>\n",
       "      <td>100.0</td>\n",
       "      <td>NaN</td>\n",
       "      <td>NaN</td>\n",
       "      <td>NaN</td>\n",
       "      <td>323.0</td>\n",
       "      <td>143.093527</td>\n",
       "      <td>50.0</td>\n",
       "      <td>200.0</td>\n",
       "      <td>300.0</td>\n",
       "      <td>450.0</td>\n",
       "      <td>600.0</td>\n",
       "    </tr>\n",
       "    <tr>\n",
       "      <th>Subscription</th>\n",
       "      <td>100</td>\n",
       "      <td>2</td>\n",
       "      <td>Yes</td>\n",
       "      <td>61</td>\n",
       "      <td>NaN</td>\n",
       "      <td>NaN</td>\n",
       "      <td>NaN</td>\n",
       "      <td>NaN</td>\n",
       "      <td>NaN</td>\n",
       "      <td>NaN</td>\n",
       "      <td>NaN</td>\n",
       "    </tr>\n",
       "  </tbody>\n",
       "</table>\n",
       "</div>"
      ],
      "text/plain": [
       "              count unique          top freq   mean         std   min    25%  \\\n",
       "Customer ID   100.0    NaN          NaN  NaN   50.5   29.011492   1.0  25.75   \n",
       "Age           100.0    NaN          NaN  NaN  35.25    9.023398  21.0   28.0   \n",
       "Gender          100      2         Male   50    NaN         NaN   NaN    NaN   \n",
       "Location        100     51  Kansas City    4    NaN         NaN   NaN    NaN   \n",
       "Frequency     100.0    NaN          NaN  NaN   6.46    2.861871   1.0    4.0   \n",
       "Amount Spent  100.0    NaN          NaN  NaN  323.0  143.093527  50.0  200.0   \n",
       "Subscription    100      2          Yes   61    NaN         NaN   NaN    NaN   \n",
       "\n",
       "                50%    75%    max  \n",
       "Customer ID    50.5  75.25  100.0  \n",
       "Age            34.0   42.0   53.0  \n",
       "Gender          NaN    NaN    NaN  \n",
       "Location        NaN    NaN    NaN  \n",
       "Frequency       6.0    9.0   12.0  \n",
       "Amount Spent  300.0  450.0  600.0  \n",
       "Subscription    NaN    NaN    NaN  "
      ]
     },
     "execution_count": 6,
     "metadata": {},
     "output_type": "execute_result"
    }
   ],
   "source": [
    "# Display descriptive statistics.\n",
    "df.describe(include='all').transpose()"
   ]
  },
  {
   "cell_type": "code",
   "execution_count": 7,
   "id": "6ad23ccd-8e4a-4c6b-ba30-b38f26772af4",
   "metadata": {},
   "outputs": [
    {
     "name": "stderr",
     "output_type": "stream",
     "text": [
      "C:\\Users\\Rangoli\\AppData\\Local\\Programs\\Python\\Python311\\Lib\\site-packages\\seaborn\\_oldcore.py:1498: FutureWarning: is_categorical_dtype is deprecated and will be removed in a future version. Use isinstance(dtype, CategoricalDtype) instead\n",
      "  if pd.api.types.is_categorical_dtype(vector):\n",
      "C:\\Users\\Rangoli\\AppData\\Local\\Programs\\Python\\Python311\\Lib\\site-packages\\seaborn\\_oldcore.py:1119: FutureWarning: use_inf_as_na option is deprecated and will be removed in a future version. Convert inf values to NaN before operating instead.\n",
      "  with pd.option_context('mode.use_inf_as_na', True):\n",
      "C:\\Users\\Rangoli\\AppData\\Local\\Programs\\Python\\Python311\\Lib\\site-packages\\seaborn\\_oldcore.py:1498: FutureWarning: is_categorical_dtype is deprecated and will be removed in a future version. Use isinstance(dtype, CategoricalDtype) instead\n",
      "  if pd.api.types.is_categorical_dtype(vector):\n",
      "C:\\Users\\Rangoli\\AppData\\Local\\Programs\\Python\\Python311\\Lib\\site-packages\\seaborn\\_oldcore.py:1498: FutureWarning: is_categorical_dtype is deprecated and will be removed in a future version. Use isinstance(dtype, CategoricalDtype) instead\n",
      "  if pd.api.types.is_categorical_dtype(vector):\n",
      "C:\\Users\\Rangoli\\AppData\\Local\\Programs\\Python\\Python311\\Lib\\site-packages\\seaborn\\_oldcore.py:1119: FutureWarning: use_inf_as_na option is deprecated and will be removed in a future version. Convert inf values to NaN before operating instead.\n",
      "  with pd.option_context('mode.use_inf_as_na', True):\n",
      "C:\\Users\\Rangoli\\AppData\\Local\\Programs\\Python\\Python311\\Lib\\site-packages\\seaborn\\_oldcore.py:1498: FutureWarning: is_categorical_dtype is deprecated and will be removed in a future version. Use isinstance(dtype, CategoricalDtype) instead\n",
      "  if pd.api.types.is_categorical_dtype(vector):\n",
      "C:\\Users\\Rangoli\\AppData\\Local\\Programs\\Python\\Python311\\Lib\\site-packages\\seaborn\\_oldcore.py:1119: FutureWarning: use_inf_as_na option is deprecated and will be removed in a future version. Convert inf values to NaN before operating instead.\n",
      "  with pd.option_context('mode.use_inf_as_na', True):\n",
      "C:\\Users\\Rangoli\\AppData\\Local\\Programs\\Python\\Python311\\Lib\\site-packages\\seaborn\\_oldcore.py:1498: FutureWarning: is_categorical_dtype is deprecated and will be removed in a future version. Use isinstance(dtype, CategoricalDtype) instead\n",
      "  if pd.api.types.is_categorical_dtype(vector):\n",
      "C:\\Users\\Rangoli\\AppData\\Local\\Programs\\Python\\Python311\\Lib\\site-packages\\seaborn\\_oldcore.py:1119: FutureWarning: use_inf_as_na option is deprecated and will be removed in a future version. Convert inf values to NaN before operating instead.\n",
      "  with pd.option_context('mode.use_inf_as_na', True):\n",
      "C:\\Users\\Rangoli\\AppData\\Local\\Programs\\Python\\Python311\\Lib\\site-packages\\seaborn\\_oldcore.py:1498: FutureWarning: is_categorical_dtype is deprecated and will be removed in a future version. Use isinstance(dtype, CategoricalDtype) instead\n",
      "  if pd.api.types.is_categorical_dtype(vector):\n",
      "C:\\Users\\Rangoli\\AppData\\Local\\Programs\\Python\\Python311\\Lib\\site-packages\\seaborn\\_oldcore.py:1498: FutureWarning: is_categorical_dtype is deprecated and will be removed in a future version. Use isinstance(dtype, CategoricalDtype) instead\n",
      "  if pd.api.types.is_categorical_dtype(vector):\n",
      "C:\\Users\\Rangoli\\AppData\\Local\\Programs\\Python\\Python311\\Lib\\site-packages\\seaborn\\_oldcore.py:1119: FutureWarning: use_inf_as_na option is deprecated and will be removed in a future version. Convert inf values to NaN before operating instead.\n",
      "  with pd.option_context('mode.use_inf_as_na', True):\n"
     ]
    },
    {
     "data": {
      "image/png": "[encoded data removed]",
      "text/plain": [
       "<Figure size 800x1600 with 5 Axes>"
      ]
     },
     "metadata": {},
     "output_type": "display_data"
    }
   ],
   "source": [
    "fig, (ax1, ax2, ax3, ax4, ax5)  = plt.subplots(5, sharey= True)\n",
    "\n",
    "def histogram(col_name, c, data, x_label, axes):\n",
    "    \n",
    "    sns.histplot(x= col_name, data= df, ax= axes, color= c)\n",
    "    axes.set_xlabel(x_label)\n",
    "    axes.set_ylabel('Count')\n",
    "    \n",
    "    \n",
    "histogram(col_name= \"Age\", c= \"#ff80ff\", x_label= \"Age of the person\", axes = ax1, data= df)\n",
    "histogram(col_name= \"Gender\", c= \"#ffb366\", x_label= \"Male or female\", axes = ax2, data= df)\n",
    "histogram(col_name= \"Amount Spent\", c= \"#66a3ff\", x_label= \"Total amount spent\", axes = ax3, data= df)\n",
    "histogram(col_name= \"Frequency\", c= \"#70db70\", x_label= \"Number of time subscription bought\", axes = ax4, data= df)\n",
    "histogram(col_name= \"Subscription\", c= \"#ff4d4d\", x_label= \"Subscribed or not\", axes = ax5, data= df)\n",
    "\n",
    "fig.set_size_inches(8,16)\n",
    "fig.set_dpi(100)\n",
    "fig.suptitle(\"Visualizing the balancing of the data\", fontsize= 13)\n",
    "\n",
    "plt.show()"
   ]
  },
  {
   "cell_type": "code",
   "execution_count": 8,
   "id": "acc1f2b8-5359-4d4f-b652-f247c062a7e0",
   "metadata": {},
   "outputs": [
    {
     "data": {
      "text/plain": [
       "Subscription\n",
       "Yes    61\n",
       "No     39\n",
       "Name: count, dtype: int64"
      ]
     },
     "execution_count": 8,
     "metadata": {},
     "output_type": "execute_result"
    }
   ],
   "source": [
    "# Display value count of target variable.\n",
    "df['Subscription'].value_counts()"
   ]
  },
  {
   "cell_type": "code",
   "execution_count": 9,
   "id": "3ba735ff-4553-436b-b702-ebb2199a29ae",
   "metadata": {},
   "outputs": [
    {
     "data": {
      "image/png": "[encoded data removed]",
      "text/plain": [
       "<Figure size 700x700 with 1 Axes>"
      ]
     },
     "metadata": {},
     "output_type": "display_data"
    }
   ],
   "source": [
    "theme_colors = [\"#ff8e1c\", \"#1cff7b\"]\n",
    "font = 13\n",
    "fig, ax = plt.subplots(ncols=1, figsize=(7, 7))\n",
    "\n",
    "spaces = (0.05, 0.05)\n",
    "label_function = lambda val:  f'{val / 100 * len(df):.0f}\\n{val:.0f}%'\n",
    "\n",
    "\n",
    "df.groupby(\"Subscription\").size().plot(kind= \"pie\", autopct=label_function,\n",
    "                                           textprops={'fontsize': 20},\n",
    "                                           ax=ax, colors= theme_colors, ylabel= \"\",\n",
    "                                           shadow= True, explode= spaces)\n",
    "\n",
    "fig.suptitle(\"Subscribed or not\", fontsize= font)\n",
    "plt.show()"
   ]
  },
  {
   "cell_type": "code",
   "execution_count": 10,
   "id": "43cd5fbe-82d9-479a-ad36-89ce404cf955",
   "metadata": {},
   "outputs": [],
   "source": [
    "df_cat=df.select_dtypes(object)"
   ]
  },
  {
   "cell_type": "code",
   "execution_count": 11,
   "id": "db1fb501-5629-44cb-9823-61d5b337fb33",
   "metadata": {},
   "outputs": [],
   "source": [
    "df_num=df.select_dtypes([\"int64\", \"float64\"])"
   ]
  },
  {
   "cell_type": "code",
   "execution_count": 12,
   "id": "ac79b3cc-77c6-4494-ad0e-65b5ea5469d9",
   "metadata": {},
   "outputs": [],
   "source": [
    "# Label encoding\n",
    "from sklearn.preprocessing import LabelEncoder"
   ]
  },
  {
   "cell_type": "code",
   "execution_count": 13,
   "id": "2cbfa941-05bc-452e-abd8-63a413c9d27d",
   "metadata": {},
   "outputs": [],
   "source": [
    "le=LabelEncoder()"
   ]
  },
  {
   "cell_type": "code",
   "execution_count": 14,
   "id": "c8393ce1-0bc4-4cc7-a366-9c56fc36eddd",
   "metadata": {},
   "outputs": [],
   "source": [
    "for col in df_cat:\n",
    "    le=LabelEncoder()\n",
    "    df_cat[col] =le.fit_transform(df_cat[col])\n",
    "    df.drop(col, axis=1, inplace=True)\n",
    "    df[col]=df_cat[col]"
   ]
  },
  {
   "cell_type": "code",
   "execution_count": 15,
   "id": "496c8beb-c66d-44e1-bce2-a5262d27e08e",
   "metadata": {},
   "outputs": [
    {
     "data": {
      "text/html": [
       "<div>\n",
       "<style scoped>\n",
       "    .dataframe tbody tr th:only-of-type {\n",
       "        vertical-align: middle;\n",
       "    }\n",
       "\n",
       "    .dataframe tbody tr th {\n",
       "        vertical-align: top;\n",
       "    }\n",
       "\n",
       "    .dataframe thead th {\n",
       "        text-align: right;\n",
       "    }\n",
       "</style>\n",
       "<table border=\"1\" class=\"dataframe\">\n",
       "  <thead>\n",
       "    <tr style=\"text-align: right;\">\n",
       "      <th></th>\n",
       "      <th>Customer ID</th>\n",
       "      <th>Age</th>\n",
       "      <th>Frequency</th>\n",
       "      <th>Amount Spent</th>\n",
       "      <th>Gender</th>\n",
       "      <th>Location</th>\n",
       "      <th>Subscription</th>\n",
       "    </tr>\n",
       "  </thead>\n",
       "  <tbody>\n",
       "    <tr>\n",
       "      <th>0</th>\n",
       "      <td>1</td>\n",
       "      <td>28</td>\n",
       "      <td>10</td>\n",
       "      <td>500</td>\n",
       "      <td>1</td>\n",
       "      <td>31</td>\n",
       "      <td>1</td>\n",
       "    </tr>\n",
       "    <tr>\n",
       "      <th>1</th>\n",
       "      <td>2</td>\n",
       "      <td>35</td>\n",
       "      <td>5</td>\n",
       "      <td>250</td>\n",
       "      <td>0</td>\n",
       "      <td>23</td>\n",
       "      <td>0</td>\n",
       "    </tr>\n",
       "    <tr>\n",
       "      <th>2</th>\n",
       "      <td>3</td>\n",
       "      <td>42</td>\n",
       "      <td>8</td>\n",
       "      <td>400</td>\n",
       "      <td>1</td>\n",
       "      <td>8</td>\n",
       "      <td>1</td>\n",
       "    </tr>\n",
       "    <tr>\n",
       "      <th>3</th>\n",
       "      <td>4</td>\n",
       "      <td>22</td>\n",
       "      <td>3</td>\n",
       "      <td>150</td>\n",
       "      <td>0</td>\n",
       "      <td>45</td>\n",
       "      <td>0</td>\n",
       "    </tr>\n",
       "    <tr>\n",
       "      <th>4</th>\n",
       "      <td>5</td>\n",
       "      <td>30</td>\n",
       "      <td>6</td>\n",
       "      <td>300</td>\n",
       "      <td>1</td>\n",
       "      <td>18</td>\n",
       "      <td>1</td>\n",
       "    </tr>\n",
       "    <tr>\n",
       "      <th>...</th>\n",
       "      <td>...</td>\n",
       "      <td>...</td>\n",
       "      <td>...</td>\n",
       "      <td>...</td>\n",
       "      <td>...</td>\n",
       "      <td>...</td>\n",
       "      <td>...</td>\n",
       "    </tr>\n",
       "    <tr>\n",
       "      <th>95</th>\n",
       "      <td>96</td>\n",
       "      <td>44</td>\n",
       "      <td>11</td>\n",
       "      <td>550</td>\n",
       "      <td>0</td>\n",
       "      <td>12</td>\n",
       "      <td>1</td>\n",
       "    </tr>\n",
       "    <tr>\n",
       "      <th>96</th>\n",
       "      <td>97</td>\n",
       "      <td>36</td>\n",
       "      <td>6</td>\n",
       "      <td>300</td>\n",
       "      <td>1</td>\n",
       "      <td>21</td>\n",
       "      <td>1</td>\n",
       "    </tr>\n",
       "    <tr>\n",
       "      <th>97</th>\n",
       "      <td>98</td>\n",
       "      <td>21</td>\n",
       "      <td>3</td>\n",
       "      <td>150</td>\n",
       "      <td>0</td>\n",
       "      <td>23</td>\n",
       "      <td>0</td>\n",
       "    </tr>\n",
       "    <tr>\n",
       "      <th>98</th>\n",
       "      <td>99</td>\n",
       "      <td>34</td>\n",
       "      <td>9</td>\n",
       "      <td>450</td>\n",
       "      <td>1</td>\n",
       "      <td>8</td>\n",
       "      <td>1</td>\n",
       "    </tr>\n",
       "    <tr>\n",
       "      <th>99</th>\n",
       "      <td>100</td>\n",
       "      <td>53</td>\n",
       "      <td>10</td>\n",
       "      <td>500</td>\n",
       "      <td>0</td>\n",
       "      <td>26</td>\n",
       "      <td>1</td>\n",
       "    </tr>\n",
       "  </tbody>\n",
       "</table>\n",
       "<p>100 rows × 7 columns</p>\n",
       "</div>"
      ],
      "text/plain": [
       "    Customer ID  Age  Frequency  Amount Spent  Gender  Location  Subscription\n",
       "0             1   28         10           500       1        31             1\n",
       "1             2   35          5           250       0        23             0\n",
       "2             3   42          8           400       1         8             1\n",
       "3             4   22          3           150       0        45             0\n",
       "4             5   30          6           300       1        18             1\n",
       "..          ...  ...        ...           ...     ...       ...           ...\n",
       "95           96   44         11           550       0        12             1\n",
       "96           97   36          6           300       1        21             1\n",
       "97           98   21          3           150       0        23             0\n",
       "98           99   34          9           450       1         8             1\n",
       "99          100   53         10           500       0        26             1\n",
       "\n",
       "[100 rows x 7 columns]"
      ]
     },
     "execution_count": 15,
     "metadata": {},
     "output_type": "execute_result"
    }
   ],
   "source": [
    "df"
   ]
  },
  {
   "cell_type": "code",
   "execution_count": 16,
   "id": "ab9ecb86-2350-48eb-a67b-d4011df13b44",
   "metadata": {},
   "outputs": [
    {
     "data": {
      "text/plain": [
       "<Axes: >"
      ]
     },
     "execution_count": 16,
     "metadata": {},
     "output_type": "execute_result"
    },
    {
     "data": {
      "image/png": "[encoded data removed]",
      "text/plain": [
       "<Figure size 640x480 with 2 Axes>"
      ]
     },
     "metadata": {},
     "output_type": "display_data"
    }
   ],
   "source": [
    "#Using a heatmap to visualise a confusion matrix, time-series movements, temperature changes, correlation matrix and SHAP interaction values.\n",
    "\n",
    "sns.heatmap(df.corr())"
   ]
  },
  {
   "cell_type": "code",
   "execution_count": 17,
   "id": "650b1ed6-8cfa-4f84-b798-9f9ade763dd5",
   "metadata": {},
   "outputs": [],
   "source": [
    "# Define X and y. test and train data\n",
    "y = df['Subscription']\n",
    "X = df.drop(['Subscription'], axis=1)"
   ]
  },
  {
   "cell_type": "code",
   "execution_count": 18,
   "id": "e49cf673-c013-4998-8266-7b148d936fc8",
   "metadata": {},
   "outputs": [],
   "source": [
    "from sklearn.metrics import precision_score, recall_score, f1_score, log_loss, accuracy_score\n",
    "\n",
    "def model_report(y_true, y_pred):\n",
    "    \n",
    "    pre = precision_score(y_true, y_pred)\n",
    "    rec = recall_score(y_true, y_pred)\n",
    "    f1 = f1_score(y_true, y_pred)\n",
    "    loss = log_loss(y_true, y_pred)\n",
    "    acc = accuracy_score(y_true, y_pred)\n",
    "    \n",
    "    print(\"precision: {:4f}\\nrecall: {}\\nf1-score: {:4f}\\nloss: {:4f}\\naccuracy: {:4f}\".\n",
    "          format(pre, rec, f1, loss, acc))"
   ]
  },
  {
   "cell_type": "code",
   "execution_count": 19,
   "id": "4d4427f8-ec7e-408f-9777-c68bab145db8",
   "metadata": {},
   "outputs": [],
   "source": [
    "from sklearn.model_selection import train_test_split\n",
    "from sklearn.metrics import f1_score\n",
    "from sklearn.model_selection import GridSearchCV\n",
    "from sklearn.tree import DecisionTreeClassifier\n",
    "from sklearn.linear_model import LogisticRegression\n",
    "from sklearn.ensemble import RandomForestClassifier\n",
    "from sklearn.svm import SVC\n",
    "from sklearn.neighbors import KNeighborsClassifier\n",
    "from sklearn.naive_bayes import GaussianNB"
   ]
  },
  {
   "cell_type": "code",
   "execution_count": 20,
   "id": "33711ed1-c30c-4878-8bac-d017fe64ea14",
   "metadata": {},
   "outputs": [],
   "source": [
    "X_train, X_test, y_train, y_test = train_test_split(X, y , test_size=0.25, random_state=0)"
   ]
  },
  {
   "cell_type": "code",
   "execution_count": 21,
   "id": "c7ac4f11-b560-4c19-bfb3-0042600e600f",
   "metadata": {},
   "outputs": [
    {
     "name": "stdout",
     "output_type": "stream",
     "text": [
      "************************************************** Classic models performance ************************************************** \n",
      "\n",
      "KNN: \n",
      "precision: 1.000000\n",
      "recall: 1.0\n",
      "f1-score: 1.000000\n",
      "loss: 0.000000\n",
      "accuracy: 1.000000\n",
      "=========================\n",
      "\n",
      "Random forest: \n",
      "precision: 1.000000\n",
      "recall: 1.0\n",
      "f1-score: 1.000000\n",
      "loss: 0.000000\n",
      "accuracy: 1.000000\n",
      "=========================\n",
      "\n",
      "Desision tree: \n",
      "precision: 1.000000\n",
      "recall: 1.0\n",
      "f1-score: 1.000000\n",
      "loss: 0.000000\n",
      "accuracy: 1.000000\n",
      "=========================\n",
      "\n",
      "Gussian nayive: \n",
      "precision: 1.000000\n",
      "recall: 1.0\n",
      "f1-score: 1.000000\n",
      "loss: 0.000000\n",
      "accuracy: 1.000000\n",
      "=========================\n",
      "\n",
      "Logistic regressior: \n",
      "precision: 1.000000\n",
      "recall: 1.0\n",
      "f1-score: 1.000000\n",
      "loss: 0.000000\n",
      "accuracy: 1.000000\n",
      "=========================\n",
      "\n",
      "SVM: \n",
      "precision: 1.000000\n",
      "recall: 1.0\n",
      "f1-score: 1.000000\n",
      "loss: 0.000000\n",
      "accuracy: 1.000000\n",
      "=========================\n",
      "\n"
     ]
    }
   ],
   "source": [
    "knn = KNeighborsClassifier(n_neighbors= 25, algorithm= \"kd_tree\")\n",
    "random_forest = RandomForestClassifier(max_depth= 3, criterion= \"gini\")\n",
    "desision_tree = DecisionTreeClassifier(max_depth= 2, criterion= \"entropy\")\n",
    "gussian_nayive = GaussianNB()\n",
    "regressior = LogisticRegression()\n",
    "\n",
    "models = {\"KNN\" : knn, \"Random forest\": random_forest,\n",
    "          \"Desision tree\" : desision_tree, \"Gussian nayive\": gussian_nayive,\n",
    "          \"Logistic regressior\" : regressior, \"SVM\" : SVC()}\n",
    "\n",
    "print(\"*\"* 50, \"Classic models performance\", \"*\" * 50, \"\\n\")\n",
    "for mode_name, model in models.items():\n",
    "\n",
    "    model.fit(X_train, y_train)\n",
    "    y_pred = model.predict(X_test)\n",
    "\n",
    "    print(f\"{mode_name}: \")\n",
    "    model_report(y_test, y_pred)\n",
    "    print(\"=\" * 25 + \"\\n\")"
   ]
  },
  {
   "cell_type": "code",
   "execution_count": null,
   "id": "5a42b337-dab3-40c4-b3cb-87f3fe05e4a7",
   "metadata": {},
   "outputs": [],
   "source": []
  }
 ],
 "metadata": {
  "kernelspec": {
   "display_name": "Python 3 (ipykernel)",
   "language": "python",
   "name": "python3"
  },
  "language_info": {
   "codemirror_mode": {
    "name": "ipython",
    "version": 3
   },
   "file_extension": ".py",
   "mimetype": "text/x-python",
   "name": "python",
   "nbconvert_exporter": "python",
   "pygments_lexer": "ipython3",
   "version": "3.11.5"
  }
 },
 "nbformat": 4,
 "nbformat_minor": 5
}
